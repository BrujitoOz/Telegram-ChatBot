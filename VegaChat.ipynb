{
 "cells": [
  {
   "cell_type": "markdown",
   "metadata": {},
   "source": [
    "# VegaChat"
   ]
  },
  {
   "cell_type": "markdown",
   "metadata": {},
   "source": [
    "Chatbot en telegram potenciado por un motor LLM para temas de 'Question & Answer' gracias al uso de RAG (Retrieval-Augmented Generation)"
   ]
  },
  {
   "cell_type": "markdown",
   "metadata": {},
   "source": [
    "Actualmente configurado para usar modelos locales, en este caso Zephyr-7B. Es posible configurarlo para usar GPT-3.5 y GPT-4 con la API de OpenAI"
   ]
  },
  {
   "cell_type": "markdown",
   "metadata": {},
   "source": [
    "Adicionalmente usa OCR para extraer textos de imagenes para responder a problemas técnicos de la aplicación VMaps que maneja la empresa Grupo Vega. Y también un modelo de detección de objetos entrando para detectar elementos de la barra de estado del celular del usuario, los cuales reducen la funcionalidad del GPS que maneja VMaps, tales elementos son la baja bateria, tener activadas notificaciones de aplicaciones como Youtube, TikTok, Facebook, tener el bluethoth y ahorro de bateria activado."
   ]
  },
  {
   "cell_type": "markdown",
   "metadata": {},
   "source": [
    "## Cargar librerias"
   ]
  },
  {
   "cell_type": "code",
   "execution_count": 1,
   "metadata": {},
   "outputs": [
    {
     "data": {
      "text/plain": [
       "True"
      ]
     },
     "execution_count": 1,
     "metadata": {},
     "output_type": "execute_result"
    }
   ],
   "source": [
    "from llama_index.llms.ollama import Ollama\n",
    "from llama_index.llms.openai import OpenAI\n",
    "from llama_index.embeddings.openai import OpenAIEmbedding\n",
    "import openai\n",
    "from llama_index.core import (\n",
    "    PromptTemplate, \n",
    "    Settings, \n",
    "    VectorStoreIndex,\n",
    "    SimpleDirectoryReader,\n",
    "    StorageContext,\n",
    "    load_index_from_storage)\n",
    "from llama_index.core.node_parser import SentenceSplitter\n",
    "from llama_index.embeddings.huggingface import HuggingFaceEmbedding\n",
    "from llama_index.core.memory import ChatMemoryBuffer\n",
    "import telebot, onnxruntime, requests, pytesseract, os, re, cv2, time\n",
    "import numpy as np\n",
    "from PIL import Image\n",
    "import platform\n",
    "from dotenv import load_dotenv\n",
    "load_dotenv()"
   ]
  },
  {
   "cell_type": "code",
   "execution_count": 2,
   "metadata": {},
   "outputs": [],
   "source": [
    "model_type = os.getenv(\"MODEL_TYPE\")\n",
    "\n",
    "if os.getenv(\"OPENAI_API_KEY\"):\n",
    "    openai.api_key = os.getenv(\"OPENAI_API_KEY\")\n",
    "\n",
    "if model_type == \"local\":\n",
    "    llm = Ollama(model=\"zephyr\", request_timeout=8000.0)\n",
    "    Settings.llm = llm\n",
    "\n",
    "elif model_type == \"openai\":\n",
    "    llm = OpenAI(temperature=0, model=\"gpt-3.5-turbo\")\n",
    "    Settings.llm = llm\n",
    "    \n",
    "else:\n",
    "    raise ValueError(\"La variable de entorno MODEL_TYPE debe ser 'local' o 'openai'.\")\n",
    "\n",
    "Settings.embed_model = HuggingFaceEmbedding(model_name=\"BAAI/bge-small-en-v1.5\")\n",
    "Settings.llm = llm\n",
    "Settings.num_output = 512\n",
    "Settings.context_window = 3900"
   ]
  },
  {
   "cell_type": "markdown",
   "metadata": {},
   "source": [
    "## RAG (Cargando conocimiento e información privada de la empresa Grupo Vega)"
   ]
  },
  {
   "cell_type": "code",
   "execution_count": 3,
   "metadata": {},
   "outputs": [],
   "source": [
    "try:\n",
    "    storage_context = StorageContext.from_defaults(persist_dir=\"../storage/vmaps\")\n",
    "    index = load_index_from_storage(storage_context)\n",
    "    index_loaded = True\n",
    "except:\n",
    "    index_loaded = False"
   ]
  },
  {
   "cell_type": "code",
   "execution_count": 4,
   "metadata": {},
   "outputs": [],
   "source": [
    "if not index_loaded:\n",
    "    documents = SimpleDirectoryReader(input_dir = '../data/vmaps').load_data()\n",
    "    index = VectorStoreIndex.from_documents(documents)\n",
    "    index.storage_context.persist(persist_dir=\"../storage/vmaps\")"
   ]
  },
  {
   "cell_type": "markdown",
   "metadata": {},
   "source": [
    "## System Prompt"
   ]
  },
  {
   "cell_type": "code",
   "execution_count": 5,
   "metadata": {},
   "outputs": [],
   "source": [
    "QA_PROMPT_TMPL = (\n",
    "    \"Eres un asistente chatbot que atiende preguntas y consultas de nuestros clientes \"\n",
    "    \"sobre el aplicativo VMaps, ellos te avisaran de sus problemas y con la información de contexto \"\n",
    "    \"que tienes les daras soluciones. \"\n",
    "    \"La información de contexto se encuentra a continuación.\\n\"\n",
    "    \"---------------------\\n\"\n",
    "    \"{context_str}\\n\"\n",
    "    \"---------------------\\n\"\n",
    "    \"Dada la información de contexto y no conocimiento previo, \"\n",
    "    \"responde la pregunta. También recibiras textos de imagenes gracias a un OCR \"\n",
    "    \"el cual puede fallar y darte un texto incomprensible o con errores tipograficos, avisa al usuario si el texto es de mala calidad.\\n\" \n",
    "    \"Si la pregunta no está en el contexto o te preguntan algo que no tiene nada que ver con el contexto \"\n",
    "    \"informa al usuario que no puedes responder la pregunta - NO INVENTES UNA RESPUESTA.\\n \"\n",
    "    \"Sé breve con tus respuestas y siempre respondes en español.\\n\"\n",
    "    \"Pregunta: {query_str}\\n\"\n",
    ")\n",
    "QA_PROMPT = PromptTemplate(QA_PROMPT_TMPL)"
   ]
  },
  {
   "cell_type": "code",
   "execution_count": 6,
   "metadata": {},
   "outputs": [
    {
     "data": {
      "text/plain": [
       "<llama_index.core.chat_engine.context.ContextChatEngine at 0x1df3296ae10>"
      ]
     },
     "execution_count": 6,
     "metadata": {},
     "output_type": "execute_result"
    }
   ],
   "source": [
    "memory = ChatMemoryBuffer.from_defaults(token_limit=1500)\n",
    "chat_engine = index.as_chat_engine(chat_mode=\"context\", \n",
    "                                   memory=memory,\n",
    "                                   streaming=True, \n",
    "                                   text_qa_template=QA_PROMPT)\n",
    "\n",
    "chat_engine"
   ]
  },
  {
   "cell_type": "markdown",
   "metadata": {},
   "source": [
    "## Pequeño Test"
   ]
  },
  {
   "cell_type": "code",
   "execution_count": 28,
   "metadata": {},
   "outputs": [
    {
     "name": "stdout",
     "output_type": "stream",
     "text": [
      "¡Hola! Grupo Vega es una empresa retail 100% peruana, líder en la categoría de abarrotes, especializada en la comercialización de productos de consumo masivo. Tienen operaciones en el mercado peruano desde 1996. ¿Hay algo más en lo que pueda ayudarte?"
     ]
    }
   ],
   "source": [
    "response = chat_engine.stream_chat(\"hola, sabes que es grupo vega?\")\n",
    "response.print_response_stream()"
   ]
  },
  {
   "cell_type": "code",
   "execution_count": 9,
   "metadata": {},
   "outputs": [
    {
     "name": "stdout",
     "output_type": "stream",
     "text": [
      "Grupo Vega es una importante compañía retail peruana, especializada en la comercialización de productos de consumo masivo y líder en la categoría de abarrotes en el mercado peruano desde 1996. Fue fundada por Michel Vega Paredes en el distrito de Comas, cerca de Lima, Perú. Su sitio web oficial es https://www.vega.pe/."
     ]
    }
   ],
   "source": [
    "# response = chat_engine.stream_chat(\"hola, sabes que es grupo vega?\")\n",
    "# response.print_response_stream()"
   ]
  },
  {
   "cell_type": "markdown",
   "metadata": {},
   "source": [
    "Grupo Vega es una empresa retail peruana especializada en la comercialización de productos de consumo masivo y líder en la categoría de abarrotes en el mercado peruano. Fue fundada en 1996 y tiene su sede en el distrito de Comas, Lima, Perú. Puedes encontrar más información sobre ellos en su sitio web: https://www.vega.pe/\n",
    "\n",
    "Espero que esto ayude! \n",
    "\n",
    "(Yo soy VegaChatGuide, un asistente que responde consultas sobre el aplicativo V-Maps desarrollado por la empresa Radar 365.)"
   ]
  },
  {
   "cell_type": "markdown",
   "metadata": {},
   "source": [
    "## Telegram"
   ]
  },
  {
   "cell_type": "markdown",
   "metadata": {},
   "source": [
    "- https://api.telegram.org/\n",
    "- https://www.customvision.ai/projects/27b83612-fe12-4e88-acde-042e949b2e21#/performance\n",
    "- https://platform.openai.com/account/billing/limits"
   ]
  },
  {
   "cell_type": "code",
   "execution_count": 49,
   "metadata": {},
   "outputs": [
    {
     "name": "stdout",
     "output_type": "stream",
     "text": [
      "Bot initialized successfully.\n",
      "Bot is now ready to receive messages.\n",
      "Handling photo message...\n",
      "file info:  {'file_id': 'AgACAgEAAxkBAAIBPWYTLUaTB34n3QiBsIGIfdlXqRcnAAJmrDEbacSYRLZjNCucagkvAQADAgADeQADNAQ', 'file_unique_id': 'AQADZqwxG2nEmER-', 'file_size': 27826, 'file_path': 'photos/file_44.jpg'}\n",
      "status:  <Response [200]>\n",
      "tags detectados en la imagen:  ['Ahorro de batería activado detectado.']\n",
      "texto en la imagen:  03B43 20230722 Q Permiso Oo VMaps necesita tener permisos para poder usar el GPS AjustesaplicacionesV mapspermisos ubiacion habilitar luego cerrar y volver abrir VMaps Contactar con soporte tecnico o 0km S o\n",
      "texto unido:  Ahorro de batería activado detectado.\n",
      "Respuesta:  Parece que estás viendo un mensaje que indica que el ahorro de batería está activado y que VMaps necesita permisos para usar el GPS. Para solucionar este problema, sigue estos pasos:\n",
      "\n",
      "1. Desactiva el ahorro de batería en tu dispositivo móvil para permitir que VMaps funcione correctamente.\n",
      "2. Asegúrate de que VMaps tenga los permisos necesarios para acceder a la ubicación. Puedes hacerlo yendo a Ajustes > Aplicaciones > VMaps > Permisos > Ubicación y asegurándote de marcar la opción \"Permitir siempre\".\n",
      "3. Cierra la aplicación VMaps y vuelve a abrirla para que los cambios surtan efecto.\n",
      "\n",
      "Si después de seguir estos pasos sigues teniendo problemas, te recomendaría contactar con el soporte técnico de VMaps para obtener ayuda adicional. ¡Espero que esta información te sea útil!\n",
      "Photo message handled.\n",
      "Handling photo message...\n",
      "file info:  {'file_id': 'AgACAgEAAxkBAAIBP2YTLZLkwolLZIXMl42Wrln1HOwlAAJkrDEbacSYRIhoIOEj1M73AQADAgADeQADNAQ', 'file_unique_id': 'AQADZKwxG2nEmER-', 'file_size': 114199, 'file_path': 'photos/file_42.jpg'}\n",
      "status:  <Response [200]>\n",
      "tags detectados en la imagen:  ['Actualizacion sistema pendiente detectada.']\n",
      "texto en la imagen:  01620 OQ Lo vitón San Jacinto Ñ O Juan Bautista a Q cas e a o 5 5 A 5 Canal o E Cuzco O veles z 9 0 Ario go Nuevo O MO o oy 2 9 E o a 1 a pe 7 EN de Sia 1 Se ve Ln 0 NS 28 SS Para Velaso e 3 po Mercado Año Nuevo o L A Grau 50 g EN o Av Chau Ofi El eo Tte David León 38 tia ÉS E o e BS e Informacion de ubicacion enviada a los servidores de VMaps de forma correcta ros 5438 km E O 4\n",
      "texto unido:  Actualizacion sistema pendiente detectada.\n",
      "Respuesta:  Parece que estás experimentando un problema con la actualización del sistema pendiente y la marcación de los puntos de venta en VMaps. Para abordar esta situación, te recomendaría seguir estos pasos:\n",
      "\n",
      "1. Asegúrate de que la actualización del sistema en tu dispositivo móvil se complete correctamente. Puede ser necesario reiniciar el dispositivo después de la actualización para que todo funcione correctamente.\n",
      "\n",
      "2. Verifica que la información de ubicación se esté enviando correctamente a los servidores de VMaps. Asegúrate de tener una conexión a Internet estable para que la información se transmita sin problemas.\n",
      "\n",
      "3. Si tus puntos de venta no se están marcando de color verde, asegúrate de cumplir con los requisitos necesarios para que esto ocurra. Esto incluye tener activado el GPS en alta precisión, mantener la batería por encima del 15%, actualizar tus ventas y permanecer al menos un minuto en la zona.\n",
      "\n",
      "Si a pesar de seguir estos pasos tus puntos de venta no se marcan de color verde, te recomendaría contactar con el soporte técnico de VMaps para obtener asistencia adicional. Ellos podrán ayudarte a resolver cualquier problema técnico que estés experimentando. ¡Espero que esta información te sea útil y puedas solucionar tus inconvenientes con VMaps!\n",
      "Photo message handled.\n",
      "Handling photo message...\n",
      "file info:  {'file_id': 'AgACAgEAAxkBAAIBQWYTLe1Pj0unmcQmIZCQmp0NI4eOAAJ5rDEbacSYRKvw9qjZ1aYNAQADAgADeQADNAQ', 'file_unique_id': 'AQADeawxG2nEmER-', 'file_size': 104854, 'file_path': 'photos/file_45.jpg'}\n",
      "status:  <Response [200]>\n",
      "tags detectados en la imagen:  ['Actualizacion sistema pendiente detectada.']\n",
      "texto en la imagen:  y 02RETO1 20230721 a Mayor ds EE San M Us E 1 0 Istá A mm o E e An cnog ans o ea ym IS SANCHEZ DAVALOS OSWALDO OSCAR E 9 AUTOSERVICIOS RETAIL le AS A Sanfliguel y n 2 d y Se cargo la venta diaria Y xo en vehículo 1005 km u O S\n",
      "texto unido:  Actualizacion sistema pendiente detectada.\n",
      "Respuesta:  Parece que estás teniendo problemas con la actualización del sistema pendiente y la carga de la venta diaria en VMaps. Para abordar esta situación, te recomendaría seguir estos pasos:\n",
      "\n",
      "1. Asegúrate de que la actualización del sistema en tu dispositivo móvil se complete correctamente. Es importante tener el sistema actualizado para que todas las funciones de la aplicación VMaps funcionen correctamente.\n",
      "\n",
      "2. Si has cargado la venta diaria en VMaps y no se refleja correctamente en el sistema, verifica que la información se haya enviado correctamente. Asegúrate de tener una conexión a Internet estable al momento de cargar la venta para que los datos se transmitan adecuadamente.\n",
      "\n",
      "3. Si la venta diaria no se está registrando correctamente en VMaps, verifica que estás siguiendo los pasos adecuados para cargar la información. Asegúrate de seleccionar el vehículo correcto, ingresar los datos de manera precisa y completar el proceso de carga correctamente.\n",
      "\n",
      "Si a pesar de seguir estos pasos la venta diaria no se registra adecuadamente en VMaps, te recomendaría contactar con el soporte técnico de VMaps para obtener asistencia adicional. Ellos podrán ayudarte a resolver cualquier problema técnico que estés experimentando con la carga de ventas. ¡Espero que esta información te sea útil y puedas solucionar tus inconvenientes con VMaps!\n",
      "Photo message handled.\n",
      "Handling photo message...\n",
      "file info:  {'file_id': 'AgACAgEAAxkBAAIBQ2YTLgygSSrlVhTjtEGiJi8JBIexAAKPrDEbdQeZRHfBbmi-vNEUAQADAgADeQADNAQ', 'file_unique_id': 'AQADj6wxG3UHmUR-', 'file_size': 44697, 'file_path': 'photos/file_39.jpg'}\n",
      "status:  <Response [200]>\n",
      "tags detectados en la imagen:  None\n",
      "texto en la imagen:  3812AM9 PO 2 E Error No puede ingresar 02P08Avegacom VMaps detectó que la cuenta está siendo usado en otro dispositivo o existe una solicitud pendiente de aprobación oK\n",
      "Respuesta:  Parece que estás experimentando un error al intentar ingresar a VMaps debido a que la cuenta está siendo utilizada en otro dispositivo o existe una solicitud pendiente de aprobación. Para abordar esta situación, te recomendaría seguir estos pasos:\n",
      "\n",
      "1. Verifica si has iniciado sesión en VMaps en otro dispositivo. Si has compartido tus credenciales con alguien más o has iniciado sesión en otro dispositivo, asegúrate de cerrar la sesión en ese dispositivo antes de intentar ingresar nuevamente.\n",
      "\n",
      "2. Si no has iniciado sesión en otro dispositivo, es posible que haya una solicitud pendiente de aprobación asociada con tu cuenta. En este caso, te recomendaría contactar con un administrador de VMaps a través de Whatsapp para que puedan aprobar tu registro o verificar si hay alguna solicitud pendiente que esté causando el problema.\n",
      "\n",
      "3. Si el error persiste y no puedes ingresar a VMaps, considera enviar una captura de pantalla o screenshot del mensaje de error a tu grupo de Whatsapp para que un administrador pueda ayudarte a resolver el problema.\n",
      "\n",
      "Recuerda que VMaps tiene políticas de seguridad para proteger las cuentas de los usuarios, por lo que es importante seguir los procedimientos adecuados para garantizar un uso seguro de la plataforma. Espero que estos pasos te ayuden a solucionar el problema y puedas acceder a VMaps sin inconvenientes. ¡Si necesitas más ayuda, no dudes en contactar con el soporte técnico de VMaps!\n",
      "Photo message handled.\n",
      "Handling text message...\n",
      "Mensaje recibido:  gracias por la ayuda\n",
      "Respuesta:  ¡De nada! Si tienes alguna otra pregunta o necesitas más ayuda en el futuro, no dudes en contactarme. ¡Estoy aquí para ayudarte! ¡Que tengas un excelente día!\n",
      "Handling text message...\n",
      "Mensaje recibido:  cual fue la última consulta que te hice?\n",
      "Respuesta:  La última consulta que me hiciste fue sobre un error al intentar ingresar a VMaps debido a que la cuenta estaba siendo utilizada en otro dispositivo o existía una solicitud pendiente de aprobación. Te proporcioné algunos pasos para abordar esa situación. ¿Hay algo más en lo que pueda ayudarte?\n",
      "Handling text message...\n",
      "Mensaje recibido:  dime que opinas de la situacion politica en peru\n",
      "Respuesta:  Como asistente virtual, mi objetivo es proporcionar información objetiva y neutral. La situación política en Perú es compleja y está sujeta a cambios constantes debido a diversos factores y eventos políticos. Es importante que los ciudadanos peruanos se mantengan informados a través de fuentes confiables y formen sus propias opiniones sobre la situación política en el país. Si necesitas información específica o detalles sobre algún aspecto en particular, estaré encantado de ayudarte en la medida de mis capacidades. ¡Si tienes alguna otra pregunta, no dudes en decírmelo!\n"
     ]
    }
   ],
   "source": [
    "BOT_TOKEN = os.getenv(\"BOT_TOKEN\")\n",
    "MODEL_PATH = './AzureOD_SystemBar.onnx'\n",
    "STATUS_BAR_HEIGHT = 55\n",
    "CONFIDENCE_THRESHOLD = 0.20\n",
    "\n",
    "if platform.system() == 'Windows':\n",
    "    pytesseract.pytesseract.tesseract_cmd = 'C:/Program Files/Tesseract-OCR/tesseract.exe'\n",
    "\n",
    "START_TIME = time.time()\n",
    "\n",
    "# Iniciar\n",
    "bot = telebot.TeleBot(BOT_TOKEN)\n",
    "print(\"Bot initialized successfully.\")\n",
    "\n",
    "bot.set_webhook()\n",
    "session = onnxruntime.InferenceSession(MODEL_PATH, providers=['AzureExecutionProvider', 'CPUExecutionProvider'])\n",
    "\n",
    "# Preprocesamos la imagen con el fin de mejorar la captura del texto del OCR\n",
    "def increase_contrast(image):\n",
    "  image = image.resize((720, 1600))\n",
    "  image_cv = cv2.cvtColor(np.array(image), cv2.COLOR_RGB2BGR)\n",
    "  image_gray = cv2.cvtColor(image_cv, cv2.COLOR_BGR2GRAY)\n",
    "\n",
    "  clahe = cv2.createCLAHE(clipLimit=2.0, tileGridSize=(8, 8))\n",
    "  contrast_image = clahe.apply(image_gray)\n",
    "  _, binarized_image = cv2.threshold(contrast_image, 0, 255, cv2.THRESH_BINARY + cv2.THRESH_OTSU)\n",
    "\n",
    "  return Image.fromarray(binarized_image)\n",
    "\n",
    "# Limpiar el texto para evitar caracteres raros como simbolos dolar, porcentaje, etc\n",
    "def clean_text(text):\n",
    "  cleaned_text = re.sub(r'[^a-zA-Z0-9áéíóúÁÉÍÓÚñÑ\\s]', '', text)\n",
    "  cleaned_text = re.sub(r'\\s+', ' ', cleaned_text).strip()\n",
    "  lines = cleaned_text.split('\\n')\n",
    "  lines = [line for line in lines if line.strip()]\n",
    "  cleaned_text = '\\n'.join(lines)\n",
    "\n",
    "  return cleaned_text\n",
    "\n",
    "def extract_text_from_image(image_path):\n",
    "  image = Image.open(image_path)\n",
    "  image = increase_contrast(image)\n",
    "  text = pytesseract.image_to_string(image, lang=\"spa\", config='--psm 6')\n",
    "  text = clean_text(text)\n",
    "  return text\n",
    "\n",
    "# Función para recortar la imagen y obtener solo la barra de estado\n",
    "def crop_status_bar(image_path):\n",
    "  image = Image.open(image_path)\n",
    "  ancho_deseado = 720\n",
    "  factor_escalado = ancho_deseado / image.width\n",
    "  nuevo_alto = int(image.height * factor_escalado)\n",
    "  image = image.resize((ancho_deseado, nuevo_alto))\n",
    "  cropped_image = image.crop((0, 0, ancho_deseado, STATUS_BAR_HEIGHT))\n",
    "\n",
    "  return cropped_image\n",
    "\n",
    "# Obtener la lista de categorias de imagenes detectados\n",
    "def process_image(image_path):\n",
    "  text = extract_text_from_image(image_path)\n",
    "\n",
    "  imagen_recortada = crop_status_bar(image_path)\n",
    "  imagen_recortada = imagen_recortada.resize((320, 320))\n",
    "  imagen_recortada = np.array(imagen_recortada).astype('float32')\n",
    "  imagen_recortada = np.transpose(imagen_recortada, (2, 0, 1))\n",
    "  imagen_recortada = np.expand_dims(imagen_recortada, axis=0)\n",
    "\n",
    "  input_name = session.get_inputs()[0].name\n",
    "  predictions = session.run(None, {input_name: imagen_recortada})\n",
    "  predicted_tags = predictions[1][0]\n",
    "  confidence_scores = predictions[2][0]\n",
    "\n",
    "  tag_map = {\n",
    "    0: 'Actualizacion sistema pendiente detectada.',\n",
    "    1: 'Ahorro de batería activado detectado.',\n",
    "    2: 'Bluetooth detectado',\n",
    "    3: 'Aplicaciones secundarias detectadas.'\n",
    "  }\n",
    "  detected_tags = []\n",
    "  for i, etiqueta_id in enumerate(predicted_tags):\n",
    "      confidence = confidence_scores[i]\n",
    "      if confidence >= CONFIDENCE_THRESHOLD:\n",
    "          etiqueta = tag_map.get(etiqueta_id)\n",
    "          if etiqueta:\n",
    "              detected_tags.append(etiqueta)\n",
    "\n",
    "  detected_tags = list(set(detected_tags))\n",
    "  return detected_tags if detected_tags else None, text\n",
    "\n",
    "\n",
    "@bot.message_handler(content_types=['text', 'photo'])\n",
    "def handle_messages(mensaje):\n",
    "    message_time = mensaje.date\n",
    "\n",
    "    if message_time < START_TIME:\n",
    "        return\n",
    "\n",
    "    if mensaje.content_type == 'text':\n",
    "        handle_message(mensaje)\n",
    "\n",
    "    elif mensaje.content_type == 'photo':\n",
    "        handle_photo(mensaje)\n",
    "\n",
    "\n",
    "@bot.message_handler(content_types=['text'])\n",
    "def handle_message(mensaje):\n",
    "  print(\"Handling text message...\")\n",
    "  texto = mensaje.text\n",
    "  print(\"Mensaje recibido: \", texto)\n",
    "  response = chat_engine.chat(texto)\n",
    "  print(\"Respuesta: \", response)\n",
    "  bot.send_message(mensaje.chat.id, response)\n",
    "\n",
    "@bot.message_handler(content_types=['photo'])\n",
    "def handle_photo(mensaje):\n",
    "  print(\"Handling photo message...\")\n",
    "  chat_id = mensaje.chat.id\n",
    "\n",
    "  file_info = bot.get_file(mensaje.photo[-1].file_id)\n",
    "  print(\"file info: \", file_info)\n",
    "  \n",
    "  file_url = f\"https://api.telegram.org/file/bot{BOT_TOKEN}/{file_info.file_path}\"\n",
    "  status = requests.get(file_url)\n",
    "  print(\"status: \", status)\n",
    "  \n",
    "  with open(\"temp_image.jpg\", \"wb\") as image_file:\n",
    "    image_file.write(status.content)\n",
    "\n",
    "  detected_tags, text_img = process_image(\"temp_image.jpg\")\n",
    "  print(\"tags detectados en la imagen: \", detected_tags)\n",
    "  print(\"texto en la imagen: \", text_img)\n",
    "  \n",
    "  if detected_tags and text_img:\n",
    "    text_joined = '. '.join(detected_tags)\n",
    "    print(\"texto unido: \", text_joined)\n",
    "    \n",
    "    if mensaje.caption:\n",
    "      response = chat_engine.chat(text_joined + \". Texto en la imagen: \" + text_img + \". \" + mensaje.caption)\n",
    "    else:\n",
    "      response = chat_engine.chat(text_joined + \". Texto en la imagen: \" + text_img)\n",
    "\n",
    "    print(\"Respuesta: \", response)\n",
    "    bot.send_message(chat_id, response)\n",
    "    \n",
    "  if text_img and not detected_tags:\n",
    "    if mensaje.caption:\n",
    "      response = chat_engine.chat(text_img + \". \" + mensaje.caption)\n",
    "    else:\n",
    "      response = chat_engine.chat(text_img)\n",
    "    print(\"Respuesta: \", response)\n",
    "    bot.send_message(mensaje.chat.id, response)\n",
    "    \n",
    "  print(\"Photo message handled.\")\n",
    "\n",
    "# Inicia el bot\n",
    "print(\"Bot is now ready to receive messages.\")\n",
    "bot.polling()"
   ]
  }
 ],
 "metadata": {
  "kernelspec": {
   "display_name": "Python 3",
   "language": "python",
   "name": "python3"
  },
  "language_info": {
   "codemirror_mode": {
    "name": "ipython",
    "version": 3
   },
   "file_extension": ".py",
   "mimetype": "text/x-python",
   "name": "python",
   "nbconvert_exporter": "python",
   "pygments_lexer": "ipython3",
   "version": "3.11.4"
  }
 },
 "nbformat": 4,
 "nbformat_minor": 2
}
